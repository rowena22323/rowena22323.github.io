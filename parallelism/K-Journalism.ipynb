{
 "metadata": {
  "language_info": {
   "codemirror_mode": {
    "name": "ipython",
    "version": 3
   },
   "file_extension": ".py",
   "mimetype": "text/x-python",
   "name": "python",
   "nbconvert_exporter": "python",
   "pygments_lexer": "ipython3",
   "version": 3
  },
  "orig_nbformat": 2,
  "kernelspec": {
   "name": "python_defaultSpec_1596086196572",
   "display_name": "Python 3.7.7 64-bit"
  }
 },
 "nbformat": 4,
 "nbformat_minor": 2,
 "cells": [
  {
   "cell_type": "markdown",
   "metadata": {},
   "source": [
    "# 한국언론의 정당정파성"
   ]
  },
  {
   "cell_type": "markdown",
   "metadata": {},
   "source": [
    "## 서론\n",
    "\n",
    "1. 도입\n",
    "    - 19대 대통령 정책공약집은 각 정당별 정치이념을 반영하고 있으며, 신문사 사설은 해당 신문사가 그날의 중요 사건에 대해 신문사의 시각을 명백히 밝히는 컨텐츠이다.\n",
    "    - 정당과 언론의 관계성은 대통령의 정책수행방향과 신문사 사설의 논조에서 유사하게 드러날 것이다.\n",
    "2. 방법\n",
    "    - 문서유사도 기법을 이용하여 정당별 정책공약집과 신문사별 사설의 유사도 파악\n",
    "3. 기대\n",
    "    - 언론 연구분야 중 하나인 한국형 언론-정당 병행관계 탐구"
   ]
  },
  {
   "cell_type": "markdown",
   "metadata": {},
   "source": [
    "## 본론"
   ]
  },
  {
   "cell_type": "markdown",
   "metadata": {},
   "source": [
    "### 정당별 정책공약집 분석 (Word2Vec)"
   ]
  },
  {
   "cell_type": "markdown",
   "metadata": {},
   "source": [
    " 1) 대선공약집에 등장하는 최빈출 단어 1000개로 정당간 관계성 파악 (단어 빈도수)"
   ]
  },
  {
   "cell_type": "code",
   "execution_count": null,
   "metadata": {},
   "outputs": [],
   "source": [
    "from io import BytesIO\n",
    "from io import StringIO\n",
    "\n",
    "from pdfminer.pdfinterp import PDFResourceManager, PDFPageInterpreter\n",
    "from pdfminer.converter import TextConverter\n",
    "from pdfminer.layout import LAParams\n",
    "from pdfminer.pdfpage import PDFPage\n",
    "\n",
    "rsrcmgr = PDFResourceManager()\n",
    "sio = StringIO()\n",
    "laparams = LAParams()\n",
    "device = TextConverter(rsrcmgr, sio, laparams=laparams)\n",
    "interpreter = PDFPageInterpreter(rsrcmgr, device)\n",
    "\n",
    "fp = open(\"19daesun/minju.pdf\", 'rb')\n",
    "for page in PDFPage.get_pages(fp):\n",
    "    interpreter.process_page(page)\n",
    "fp.close()\n",
    "text = sio.getvalue()\n",
    "text = text.replace(chr(272),\" \")\n",
    "print(type(text))\n",
    "f = open(\"19daesun/minju.txt\",'w',encoding='cp949')\n",
    "f.write(text)\n",
    "\n",
    "print('hello')"
   ]
  },
  {
   "cell_type": "code",
   "execution_count": null,
   "metadata": {},
   "outputs": [],
   "source": [
    "import re\n",
    "\n",
    "input_file_name = '2017_op.csv'\n",
    "output_file_name = '2017_op_f.csv'\n",
    "\n",
    "def clean_text(text):\n",
    "    clean_text = re.sub('[a-zA-Z]','',text)\n",
    "    clean_text = re.sub('[\\{\\}\\[\\]\\/?.,;:|\\)*~`!^\\-_+<>@\\#$%&\\\\\\=\\(\\'\\\"]','', clean_text)\n",
    "    return clean_text\n",
    "\n",
    "def main():\n",
    "    read_file = open(input_file_name,'r')\n",
    "    write_file = open(output_file_name, 'w')\n",
    "    text = read_file.read()\n",
    "    text = clean_text(text)\n",
    "    write_file.write(text)\n",
    "    read_file.close()\n",
    "    write_file.close()\n",
    "\n",
    "if __name__ == \"__main__\":\n",
    "    main()"
   ]
  },
  {
   "cell_type": "markdown",
   "metadata": {},
   "source": [
    "[combine.html](combine.html)"
   ]
  },
  {
   "cell_type": "markdown",
   "metadata": {},
   "source": [
    "2) Word2Vec, t-SNE를 이용한 대선정책공약집 경향성 파악\n",
    "\n",
    "     - 정책집 > 전처리 > 워드임베딩\n",
    "     - 워드임베딩 모델을 사용해 최빈출 50단어 시각화 \n"
   ]
  },
  {
   "cell_type": "markdown",
   "metadata": {},
   "source": [
    "[w2v.html](w2v.html)"
   ]
  },
  {
   "cell_type": "markdown",
   "metadata": {},
   "source": [
    "[tsne.html](tsne.html)"
   ]
  },
  {
   "cell_type": "markdown",
   "metadata": {},
   "source": [
    "### 신문사별 사설 분석 (Doc2Vec)"
   ]
  },
  {
   "cell_type": "markdown",
   "metadata": {},
   "source": [
    "1) 웹크롤링 > 2017년 신문사별 사설 수집 > 상위 7개사 사설 (신문사별 3000건 이상) 수집"
   ]
  },
  {
   "cell_type": "code",
   "execution_count": null,
   "metadata": {},
   "outputs": [],
   "source": [
    "from korea_news_crawler.articlecrawler import ArticleCrawler\n",
    "\n",
    "Crawler = ArticleCrawler()  \n",
    "Crawler.set_category(\"오피니언\")  \n",
    "Crawler.set_date_range(2017, 5, 2017, 5)  \n",
    "Crawler.start()"
   ]
  },
  {
   "cell_type": "markdown",
   "metadata": {},
   "source": [
    "2) 신문사별 토픽모델링"
   ]
  },
  {
   "cell_type": "markdown",
   "metadata": {},
   "source": [
    "[lda_da.html]"
   ]
  },
  {
   "cell_type": "markdown",
   "metadata": {},
   "source": [
    "[lda_hgr.html]"
   ]
  },
  {
   "cell_type": "markdown",
   "metadata": {},
   "source": [
    "[lda_hg.html]"
   ]
  },
  {
   "cell_type": "markdown",
   "metadata": {},
   "source": [
    "[lda_kh.html]"
   ]
  },
  {
   "cell_type": "markdown",
   "metadata": {},
   "source": [
    "[lda_korea.html]"
   ]
  },
  {
   "cell_type": "markdown",
   "metadata": {},
   "source": [
    "[lda_ma.html]"
   ]
  },
  {
   "cell_type": "markdown",
   "metadata": {},
   "source": [
    "[lda_su.html]"
   ]
  },
  {
   "cell_type": "markdown",
   "metadata": {},
   "source": [
    "3) 사설별 Doc2Vec modeling"
   ]
  },
  {
   "cell_type": "code",
   "execution_count": null,
   "metadata": {},
   "outputs": [],
   "source": []
  },
  {
   "cell_type": "markdown",
   "metadata": {},
   "source": [
    "## 결론"
   ]
  }
 ]
}